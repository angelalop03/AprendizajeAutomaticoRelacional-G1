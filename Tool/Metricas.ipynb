{
 "cells": [
  {
   "cell_type": "code",
   "execution_count": 2,
   "metadata": {},
   "outputs": [],
   "source": [
    "import networkx as nx\n",
    "import pandas as pd\n",
    "import matplotlib.pyplot as plt\n",
    "from joblib import Parallel, delayed\n",
    "import csv"
   ]
  },
  {
   "cell_type": "code",
   "execution_count": 3,
   "metadata": {},
   "outputs": [],
   "source": [
    "#Leer csv\n",
    "nodes = pd.read_csv(\"../Datos/musae_git_target.csv\")\n",
    "musae = pd.read_csv(\"../Datos/musae_git_edges.csv\")\n",
    "edges = [tuple(x) for x in musae.to_records(index=False)]"
   ]
  },
  {
   "cell_type": "code",
   "execution_count": 4,
   "metadata": {},
   "outputs": [
    {
     "data": {
      "text/html": [
       "<div>\n",
       "<style scoped>\n",
       "    .dataframe tbody tr th:only-of-type {\n",
       "        vertical-align: middle;\n",
       "    }\n",
       "\n",
       "    .dataframe tbody tr th {\n",
       "        vertical-align: top;\n",
       "    }\n",
       "\n",
       "    .dataframe thead th {\n",
       "        text-align: right;\n",
       "    }\n",
       "</style>\n",
       "<table border=\"1\" class=\"dataframe\">\n",
       "  <thead>\n",
       "    <tr style=\"text-align: right;\">\n",
       "      <th></th>\n",
       "      <th>id</th>\n",
       "      <th>name</th>\n",
       "      <th>ml_target</th>\n",
       "    </tr>\n",
       "  </thead>\n",
       "  <tbody>\n",
       "    <tr>\n",
       "      <th>0</th>\n",
       "      <td>0</td>\n",
       "      <td>Eiryyy</td>\n",
       "      <td>0</td>\n",
       "    </tr>\n",
       "    <tr>\n",
       "      <th>1</th>\n",
       "      <td>1</td>\n",
       "      <td>shawflying</td>\n",
       "      <td>0</td>\n",
       "    </tr>\n",
       "    <tr>\n",
       "      <th>2</th>\n",
       "      <td>2</td>\n",
       "      <td>JpMCarrilho</td>\n",
       "      <td>1</td>\n",
       "    </tr>\n",
       "    <tr>\n",
       "      <th>3</th>\n",
       "      <td>3</td>\n",
       "      <td>SuhwanCha</td>\n",
       "      <td>0</td>\n",
       "    </tr>\n",
       "    <tr>\n",
       "      <th>4</th>\n",
       "      <td>4</td>\n",
       "      <td>sunilangadi2</td>\n",
       "      <td>1</td>\n",
       "    </tr>\n",
       "    <tr>\n",
       "      <th>...</th>\n",
       "      <td>...</td>\n",
       "      <td>...</td>\n",
       "      <td>...</td>\n",
       "    </tr>\n",
       "    <tr>\n",
       "      <th>37695</th>\n",
       "      <td>37695</td>\n",
       "      <td>shawnwanderson</td>\n",
       "      <td>1</td>\n",
       "    </tr>\n",
       "    <tr>\n",
       "      <th>37696</th>\n",
       "      <td>37696</td>\n",
       "      <td>kris-ipeh</td>\n",
       "      <td>0</td>\n",
       "    </tr>\n",
       "    <tr>\n",
       "      <th>37697</th>\n",
       "      <td>37697</td>\n",
       "      <td>qpautrat</td>\n",
       "      <td>0</td>\n",
       "    </tr>\n",
       "    <tr>\n",
       "      <th>37698</th>\n",
       "      <td>37698</td>\n",
       "      <td>Injabie3</td>\n",
       "      <td>1</td>\n",
       "    </tr>\n",
       "    <tr>\n",
       "      <th>37699</th>\n",
       "      <td>37699</td>\n",
       "      <td>caseycavanagh</td>\n",
       "      <td>0</td>\n",
       "    </tr>\n",
       "  </tbody>\n",
       "</table>\n",
       "<p>37700 rows × 3 columns</p>\n",
       "</div>"
      ],
      "text/plain": [
       "          id            name  ml_target\n",
       "0          0          Eiryyy          0\n",
       "1          1      shawflying          0\n",
       "2          2     JpMCarrilho          1\n",
       "3          3       SuhwanCha          0\n",
       "4          4    sunilangadi2          1\n",
       "...      ...             ...        ...\n",
       "37695  37695  shawnwanderson          1\n",
       "37696  37696       kris-ipeh          0\n",
       "37697  37697        qpautrat          0\n",
       "37698  37698        Injabie3          1\n",
       "37699  37699   caseycavanagh          0\n",
       "\n",
       "[37700 rows x 3 columns]"
      ]
     },
     "execution_count": 4,
     "metadata": {},
     "output_type": "execute_result"
    }
   ],
   "source": [
    "Grafo = nx.Graph()\n",
    "Grafo.add_edges_from(edges)\n",
    "Grafo.add_nodes_from(nodes)\n",
    "nodes"
   ]
  },
  {
   "cell_type": "code",
   "execution_count": 5,
   "metadata": {},
   "outputs": [
    {
     "name": "stdout",
     "output_type": "stream",
     "text": [
      "Numero de nodos:  37703\n",
      "Numero de aristas:  289003\n"
     ]
    }
   ],
   "source": [
    "#Obtener el numero de nodes y edges\n",
    "print(\"Numero de nodos: \", Grafo.number_of_nodes())\n",
    "print(\"Numero de aristas: \", Grafo.number_of_edges())"
   ]
  },
  {
   "cell_type": "code",
   "execution_count": 6,
   "metadata": {},
   "outputs": [],
   "source": [
    "#CENTRALIDAD\n",
    "\n",
    "#Centralidad Cercania \n",
    "closeness = nx.closeness_centrality(Grafo)\n",
    "with open(\"../Metricas/Closeness.csv\", 'w') as f:\n",
    "    writer = csv.writer(f)\n",
    "    writer.writerow([\"id\", \"Closeness_Centrality\"])\n",
    "    for key, value in closeness.items():\n",
    "        writer.writerow([key, value])"
   ]
  },
  {
   "cell_type": "code",
   "execution_count": 7,
   "metadata": {},
   "outputs": [],
   "source": [
    "#Centralidad Intermediacion\n",
    "betweenness = nx.betweenness_centrality(Grafo)\n",
    "with open('../Metricas/Betweenness.csv', 'w') as f:\n",
    "    writer = csv.writer(f)\n",
    "    writer.writerow([\"id\", \"Betweenness_Centrality\"])\n",
    "    for key, value in betweenness.items():\n",
    "        writer.writerow([key, value])"
   ]
  },
  {
   "cell_type": "code",
   "execution_count": 8,
   "metadata": {},
   "outputs": [],
   "source": [
    "#Centralidad Grado\n",
    "degree = nx.degree_centrality(Grafo)\n",
    "with open(\"../Metricas/Degree.csv\", 'w') as f:\n",
    "    writer = csv.writer(f)\n",
    "    writer.writerow([\"id\", \"Degree_Centrality\"])\n",
    "    for key, value in degree.items():\n",
    "        writer.writerow([key, value])"
   ]
  },
  {
   "cell_type": "code",
   "execution_count": 9,
   "metadata": {},
   "outputs": [],
   "source": [
    "#AGRUPAMIENTO\n",
    "#Coeficiente de agrupamiento\n",
    "clustering = nx.clustering(Grafo)\n",
    "with open(\"../Metricas/ClusteringC.csv\", 'w') as f:\n",
    "    writer = csv.writer(f)\n",
    "    writer.writerow([\"id\", \"Clustering_Coefficient\"])\n",
    "    for key, value in clustering.items():\n",
    "        writer.writerow([key, value])"
   ]
  },
  {
   "cell_type": "code",
   "execution_count": 10,
   "metadata": {},
   "outputs": [],
   "source": [
    "#Agrupamiento triangulos\n",
    "triangles = nx.triangles(Grafo)\n",
    "with open(\"../Metricas/Triangles.csv\", 'w') as f:\n",
    "    writer = csv.writer(f)\n",
    "    writer.writerow([\"id\", \"Triangles\"])\n",
    "    for key, value in triangles.items():\n",
    "        writer.writerow([key, value])"
   ]
  },
  {
   "cell_type": "code",
   "execution_count": 11,
   "metadata": {},
   "outputs": [],
   "source": [
    "#Agrupamiento cuadrados\n",
    "squares = nx.square_clustering(Grafo)\n",
    "with open(\"../Metricas/Squares.csv\", 'w') as f:\n",
    "    writer = csv.writer(f)\n",
    "    writer.writerow([\"id\", \"Squares\"])\n",
    "    for key, value in squares.items():\n",
    "        writer.writerow([key, value])"
   ]
  },
  {
   "cell_type": "code",
   "execution_count": 12,
   "metadata": {},
   "outputs": [],
   "source": [
    "#NUCLEOS\n",
    "#Nucleo\n",
    "k_core = nx.core_number(Grafo)\n",
    "with open(\"../Metricas/K_Core.csv\", 'w') as f:\n",
    "    writer = csv.writer(f)\n",
    "    writer.writerow([\"id\", \"K_Core\"])\n",
    "    for key, value in k_core.items():\n",
    "        writer.writerow([key, value])"
   ]
  },
  {
   "cell_type": "code",
   "execution_count": 13,
   "metadata": {},
   "outputs": [],
   "source": [
    "#COMUNIDADES\n",
    "#Comunidades\n",
    "comunidades = nx.algorithms.community.greedy_modularity_communities(Grafo)\n",
    "with open(\"../Metricas/Comunidades.csv\", 'w') as f:\n",
    "    writer = csv.writer(f)\n",
    "    writer.writerow([\"Comunidad\", \"id\"])\n",
    "    for i, comunidad in enumerate(comunidades):\n",
    "        for nodo in comunidad:\n",
    "            writer.writerow([i, nodo])"
   ]
  },
  {
   "cell_type": "code",
   "execution_count": 7,
   "metadata": {},
   "outputs": [],
   "source": [
    "# Partición Aristas\n",
    "asyn_lpa = nx.community.asyn_lpa_communities(Grafo)\n",
    "with open(\"../Metricas/Asyn_LPA.csv\", 'w') as f:\n",
    "    writer = csv.writer(f)\n",
    "    writer.writerow([\"id\", \"Comunidad\"])\n",
    "    for i, comunidad in enumerate(asyn_lpa):\n",
    "        for nodo in comunidad:\n",
    "            writer.writerow([nodo, i])"
   ]
  },
  {
   "cell_type": "code",
   "execution_count": 19,
   "metadata": {},
   "outputs": [
    {
     "name": "stdout",
     "output_type": "stream",
     "text": [
      "ml_target\n",
      "0    27961\n",
      "1     9739\n",
      "Name: count, dtype: int64\n"
     ]
    }
   ],
   "source": [
    "#Valores de ml_target\n",
    "ml_target = nodes['ml_target'].value_counts()\n",
    "print(ml_target)"
   ]
  }
 ],
 "metadata": {
  "kernelspec": {
   "display_name": "base",
   "language": "python",
   "name": "python3"
  },
  "language_info": {
   "codemirror_mode": {
    "name": "ipython",
    "version": 3
   },
   "file_extension": ".py",
   "mimetype": "text/x-python",
   "name": "python",
   "nbconvert_exporter": "python",
   "pygments_lexer": "ipython3",
   "version": "3.12.2"
  }
 },
 "nbformat": 4,
 "nbformat_minor": 2
}
